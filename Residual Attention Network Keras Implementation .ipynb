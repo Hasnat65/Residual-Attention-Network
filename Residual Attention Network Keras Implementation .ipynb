{
 "cells": [
  {
   "cell_type": "markdown",
   "metadata": {},
   "source": [
    "# Residual Attention Network\n",
    "\n",
    "- A stack of Attention Modules\n",
    "- Attention Modules have 2 branches\n",
    "    - Trunk Branch\n",
    "    - Soft Mask Branch"
   ]
  },
  {
   "cell_type": "code",
   "execution_count": 5,
   "metadata": {},
   "outputs": [],
   "source": [
    "from tensorflow.keras.layers import Conv2D, MaxPool2D, AveragePooling2D, Flatten, Dense"
   ]
  },
  {
   "cell_type": "code",
   "execution_count": 3,
   "metadata": {},
   "outputs": [],
   "source": [
    "class ResidualAttentionNetwork():\n",
    "    \n",
    "    def __init__(self):\n",
    "        '''\n",
    "        Conv Layer\n",
    "        Max Pooling Layer\n",
    "        \n",
    "        Residual Unit\n",
    "        Attention Module\n",
    "        \n",
    "        Residual Unit\n",
    "        Attention Module\n",
    "        \n",
    "        Residual Unit\n",
    "        Attention Module\n",
    "\n",
    "        Residual Unit\n",
    "        \n",
    "        Average Pooling\n",
    "        \n",
    "        Flatten\n",
    "        \n",
    "        Dense Layer(s)\n",
    "        Output Dense Layer (Num. Classer, activation='softmax'))\n",
    "        '''\n",
    "        \n",
    "        \n",
    "        return\n",
    "    \n",
    "    def trunk_branch(self):\n",
    "        #sequence of residual units\n",
    "        return\n",
    "\n",
    "    def mask_branch(self):\n",
    "        return\n",
    "\n",
    "    #how to implement in keras??????\n",
    "    def residual_unit(self):\n",
    "        return"
   ]
  },
  {
   "cell_type": "code",
   "execution_count": null,
   "metadata": {},
   "outputs": [],
   "source": []
  },
  {
   "cell_type": "code",
   "execution_count": null,
   "metadata": {},
   "outputs": [],
   "source": []
  },
  {
   "cell_type": "code",
   "execution_count": null,
   "metadata": {},
   "outputs": [],
   "source": []
  },
  {
   "cell_type": "code",
   "execution_count": null,
   "metadata": {},
   "outputs": [],
   "source": []
  },
  {
   "cell_type": "code",
   "execution_count": null,
   "metadata": {},
   "outputs": [],
   "source": []
  },
  {
   "cell_type": "code",
   "execution_count": null,
   "metadata": {},
   "outputs": [],
   "source": []
  }
 ],
 "metadata": {
  "kernelspec": {
   "display_name": "Python 3",
   "language": "python",
   "name": "python3"
  },
  "language_info": {
   "codemirror_mode": {
    "name": "ipython",
    "version": 3
   },
   "file_extension": ".py",
   "mimetype": "text/x-python",
   "name": "python",
   "nbconvert_exporter": "python",
   "pygments_lexer": "ipython3",
   "version": "3.6.8"
  }
 },
 "nbformat": 4,
 "nbformat_minor": 2
}
